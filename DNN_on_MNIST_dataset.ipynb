{
  "nbformat": 4,
  "nbformat_minor": 0,
  "metadata": {
    "colab": {
      "name": "DNN on MNIST dataset.ipynb",
      "provenance": [],
      "collapsed_sections": [],
      "include_colab_link": true
    },
    "kernelspec": {
      "name": "python3",
      "display_name": "Python 3"
    },
    "accelerator": "GPU"
  },
  "cells": [
    {
      "cell_type": "markdown",
      "metadata": {
        "id": "view-in-github",
        "colab_type": "text"
      },
      "source": [
        "<a href=\"https://colab.research.google.com/github/adijindal30/MNIST-Digit-recognition-using-DNN/blob/main/DNN_on_MNIST_dataset.ipynb\" target=\"_parent\"><img src=\"https://colab.research.google.com/assets/colab-badge.svg\" alt=\"Open In Colab\"/></a>"
      ]
    },
    {
      "cell_type": "code",
      "metadata": {
        "id": "3m3w1Cw49Zkt"
      },
      "source": [
        "!pip install -q keras\n",
        "import keras"
      ],
      "execution_count": 1,
      "outputs": []
    },
    {
      "cell_type": "code",
      "metadata": {
        "id": "Eso6UHE080D4"
      },
      "source": [
        "import numpy as np\n",
        "from keras.models import Sequential\n",
        "from keras.layers import Dense, Dropout, Activation, Flatten, Add, BatchNormalization, Dropout\n",
        "from keras.layers import Convolution2D, MaxPooling2D\n",
        "from keras.utils import np_utils\n",
        "from keras.datasets import mnist"
      ],
      "execution_count": 2,
      "outputs": []
    },
    {
      "cell_type": "markdown",
      "metadata": {
        "id": "m1A2tkl_tnxP"
      },
      "source": [
        "Loading the mnist dataset\n"
      ]
    },
    {
      "cell_type": "code",
      "metadata": {
        "id": "7eRM0QWN83PV"
      },
      "source": [
        "(X_train, y_train), (X_test, y_test) = mnist.load_data()"
      ],
      "execution_count": 3,
      "outputs": []
    },
    {
      "cell_type": "code",
      "metadata": {
        "id": "4a4Be72j8-ZC",
        "colab": {
          "base_uri": "https://localhost:8080/",
          "height": 299
        },
        "outputId": "45a05a2a-3be0-4516-a6f9-cb0043b303a8"
      },
      "source": [
        "print (X_train.shape)\n",
        "from matplotlib import pyplot as plt\n",
        "%matplotlib inline\n",
        "plt.imshow(X_train[1])"
      ],
      "execution_count": 4,
      "outputs": [
        {
          "output_type": "stream",
          "text": [
            "(60000, 28, 28)\n"
          ],
          "name": "stdout"
        },
        {
          "output_type": "execute_result",
          "data": {
            "text/plain": [
              "<matplotlib.image.AxesImage at 0x7f6abc790518>"
            ]
          },
          "metadata": {
            "tags": []
          },
          "execution_count": 4
        },
        {
          "output_type": "display_data",
          "data": {
            "image/png": "[encoded data removed]",
            "text/plain": [
              "<Figure size 432x288 with 1 Axes>"
            ]
          },
          "metadata": {
            "tags": [],
            "needs_background": "light"
          }
        }
      ]
    },
    {
      "cell_type": "code",
      "metadata": {
        "colab": {
          "base_uri": "https://localhost:8080/"
        },
        "id": "HjmHRMknwLm4",
        "outputId": "b45cb55a-81d2-4c78-b5e3-05bd00b187f6"
      },
      "source": [
        "print(X_train.shape)"
      ],
      "execution_count": 5,
      "outputs": [
        {
          "output_type": "stream",
          "text": [
            "(60000, 28, 28)\n"
          ],
          "name": "stdout"
        }
      ]
    },
    {
      "cell_type": "code",
      "metadata": {
        "id": "dkmprriw9AnZ"
      },
      "source": [
        "X_train = X_train.reshape(X_train.shape[0], 28, 28,1)\n",
        "X_test = X_test.reshape(X_test.shape[0], 28, 28,1)"
      ],
      "execution_count": 6,
      "outputs": []
    },
    {
      "cell_type": "markdown",
      "metadata": {
        "id": "VVV95VRWtwUB"
      },
      "source": [
        "Normalizing the pixel values of images\n"
      ]
    },
    {
      "cell_type": "code",
      "metadata": {
        "id": "X2m4YS4E9CRh"
      },
      "source": [
        "X_train = X_train.astype('float32')\n",
        "X_test = X_test.astype('float32')\n",
        "X_train /= 255\n",
        "X_test /= 255"
      ],
      "execution_count": 7,
      "outputs": []
    },
    {
      "cell_type": "code",
      "metadata": {
        "id": "0Mn0vAYD9DvB",
        "colab": {
          "base_uri": "https://localhost:8080/"
        },
        "outputId": "13e2ae99-447f-465f-ee38-97d5536731d4"
      },
      "source": [
        "y_train[:5]"
      ],
      "execution_count": 8,
      "outputs": [
        {
          "output_type": "execute_result",
          "data": {
            "text/plain": [
              "array([5, 0, 4, 1, 9], dtype=uint8)"
            ]
          },
          "metadata": {
            "tags": []
          },
          "execution_count": 8
        }
      ]
    },
    {
      "cell_type": "code",
      "metadata": {
        "id": "ZG8JiXR39FHC"
      },
      "source": [
        "Y_train = np_utils.to_categorical(y_train, 10)\n",
        "Y_test = np_utils.to_categorical(y_test, 10)"
      ],
      "execution_count": 9,
      "outputs": []
    },
    {
      "cell_type": "code",
      "metadata": {
        "id": "fYlFRvKS9HMB",
        "colab": {
          "base_uri": "https://localhost:8080/"
        },
        "outputId": "8343d6bc-b807-43b2-b291-013d73deec17"
      },
      "source": [
        "Y_train[:10]\n"
      ],
      "execution_count": 10,
      "outputs": [
        {
          "output_type": "execute_result",
          "data": {
            "text/plain": [
              "array([[0., 0., 0., 0., 0., 1., 0., 0., 0., 0.],\n",
              "       [1., 0., 0., 0., 0., 0., 0., 0., 0., 0.],\n",
              "       [0., 0., 0., 0., 1., 0., 0., 0., 0., 0.],\n",
              "       [0., 1., 0., 0., 0., 0., 0., 0., 0., 0.],\n",
              "       [0., 0., 0., 0., 0., 0., 0., 0., 0., 1.],\n",
              "       [0., 0., 1., 0., 0., 0., 0., 0., 0., 0.],\n",
              "       [0., 1., 0., 0., 0., 0., 0., 0., 0., 0.],\n",
              "       [0., 0., 0., 1., 0., 0., 0., 0., 0., 0.],\n",
              "       [0., 1., 0., 0., 0., 0., 0., 0., 0., 0.],\n",
              "       [0., 0., 0., 0., 1., 0., 0., 0., 0., 0.]], dtype=float32)"
            ]
          },
          "metadata": {
            "tags": []
          },
          "execution_count": 10
        }
      ]
    },
    {
      "cell_type": "code",
      "metadata": {
        "id": "osKqT73Q9JJB"
      },
      "source": [
        "from keras.layers import Activation\n",
        "model = Sequential()\n",
        "\n",
        " \n",
        "model.add(Convolution2D(8, (3, 3), activation='relu', input_shape=(28,28,1))) # 26\n",
        "model.add(BatchNormalization())\n",
        "model.add(Dropout(0.1))\n",
        "\n",
        "model.add(Convolution2D(10,( 3, 3), activation='relu')) # 24\n",
        "model.add(BatchNormalization())\n",
        "model.add(Dropout(0.1))\n",
        "\n",
        "model.add(Convolution2D(8, (1, 1), activation='relu')) # 12\n",
        "model.add(MaxPooling2D(pool_size=(2, 2))) # 12\n",
        "\n",
        "model.add(Convolution2D(10, (3, 3), activation='relu')) # 10\n",
        "model.add(BatchNormalization())\n",
        "model.add(Dropout(0.1))\n",
        "\n",
        "model.add(Convolution2D(12, (3, 3), activation='relu')) # 8\n",
        "model.add(BatchNormalization())\n",
        "model.add(Dropout(0.1))\n",
        "\n",
        "model.add(Convolution2D(10, (1, 1), activation='relu')) # 8\n",
        "\n",
        "model.add(Convolution2D(12, (3, 3), activation='relu')) # 6\n",
        "model.add(BatchNormalization())\n",
        "model.add(Dropout(0.1))\n",
        "\n",
        "model.add(Convolution2D(16, (3, 3), activation='relu')) # 4\n",
        "model.add(BatchNormalization())\n",
        "model.add(Dropout(0.1))\n",
        "\n",
        "\n",
        "model.add(Convolution2D(10, 1, activation='relu')) #4\n",
        "model.add(Convolution2D(10, 4))\n",
        "model.add(Flatten())\n",
        "model.add(Activation('softmax'))"
      ],
      "execution_count": 12,
      "outputs": []
    },
    {
      "cell_type": "code",
      "metadata": {
        "id": "TzdAYg1k9K7Z",
        "colab": {
          "base_uri": "https://localhost:8080/"
        },
        "outputId": "9aef1bb0-db7d-4895-9077-81986f983f2b"
      },
      "source": [
        "model.summary()"
      ],
      "execution_count": 13,
      "outputs": [
        {
          "output_type": "stream",
          "text": [
            "Model: \"sequential_1\"\n",
            "_________________________________________________________________\n",
            "Layer (type)                 Output Shape              Param #   \n",
            "=================================================================\n",
            "conv2d_4 (Conv2D)            (None, 26, 26, 8)         80        \n",
            "_________________________________________________________________\n",
            "batch_normalization_2 (Batch (None, 26, 26, 8)         32        \n",
            "_________________________________________________________________\n",
            "dropout_2 (Dropout)          (None, 26, 26, 8)         0         \n",
            "_________________________________________________________________\n",
            "conv2d_5 (Conv2D)            (None, 24, 24, 10)        730       \n",
            "_________________________________________________________________\n",
            "batch_normalization_3 (Batch (None, 24, 24, 10)        40        \n",
            "_________________________________________________________________\n",
            "dropout_3 (Dropout)          (None, 24, 24, 10)        0         \n",
            "_________________________________________________________________\n",
            "conv2d_6 (Conv2D)            (None, 24, 24, 8)         88        \n",
            "_________________________________________________________________\n",
            "max_pooling2d_1 (MaxPooling2 (None, 12, 12, 8)         0         \n",
            "_________________________________________________________________\n",
            "conv2d_7 (Conv2D)            (None, 10, 10, 10)        730       \n",
            "_________________________________________________________________\n",
            "batch_normalization_4 (Batch (None, 10, 10, 10)        40        \n",
            "_________________________________________________________________\n",
            "dropout_4 (Dropout)          (None, 10, 10, 10)        0         \n",
            "_________________________________________________________________\n",
            "conv2d_8 (Conv2D)            (None, 8, 8, 12)          1092      \n",
            "_________________________________________________________________\n",
            "batch_normalization_5 (Batch (None, 8, 8, 12)          48        \n",
            "_________________________________________________________________\n",
            "dropout_5 (Dropout)          (None, 8, 8, 12)          0         \n",
            "_________________________________________________________________\n",
            "conv2d_9 (Conv2D)            (None, 8, 8, 10)          130       \n",
            "_________________________________________________________________\n",
            "conv2d_10 (Conv2D)           (None, 6, 6, 12)          1092      \n",
            "_________________________________________________________________\n",
            "batch_normalization_6 (Batch (None, 6, 6, 12)          48        \n",
            "_________________________________________________________________\n",
            "dropout_6 (Dropout)          (None, 6, 6, 12)          0         \n",
            "_________________________________________________________________\n",
            "conv2d_11 (Conv2D)           (None, 4, 4, 16)          1744      \n",
            "_________________________________________________________________\n",
            "batch_normalization_7 (Batch (None, 4, 4, 16)          64        \n",
            "_________________________________________________________________\n",
            "dropout_7 (Dropout)          (None, 4, 4, 16)          0         \n",
            "_________________________________________________________________\n",
            "conv2d_12 (Conv2D)           (None, 4, 4, 10)          170       \n",
            "_________________________________________________________________\n",
            "conv2d_13 (Conv2D)           (None, 1, 1, 10)          1610      \n",
            "_________________________________________________________________\n",
            "flatten (Flatten)            (None, 10)                0         \n",
            "_________________________________________________________________\n",
            "activation (Activation)      (None, 10)                0         \n",
            "=================================================================\n",
            "Total params: 7,738\n",
            "Trainable params: 7,602\n",
            "Non-trainable params: 136\n",
            "_________________________________________________________________\n"
          ],
          "name": "stdout"
        }
      ]
    },
    {
      "cell_type": "code",
      "metadata": {
        "id": "Zp6SuGrL9M3h"
      },
      "source": [
        "from keras.optimizers import Adam\n",
        "from keras.callbacks import LearningRateScheduler\n",
        "def scheduler(epoch, lr):\n",
        "  return round(0.003 * 1/(1 + 0.319 * epoch), 10)\n",
        "\n",
        "model.compile(loss='categorical_crossentropy', \n",
        "              optimizer=Adam(lr=0.003), \n",
        "              metrics=['accuracy'])"
      ],
      "execution_count": 14,
      "outputs": []
    },
    {
      "cell_type": "code",
      "metadata": {
        "id": "QNsc366NVPyv",
        "colab": {
          "base_uri": "https://localhost:8080/"
        },
        "outputId": "41bbfa79-fd84-4b59-e7d4-6181fe68f444"
      },
      "source": [
        "model.fit(X_train, Y_train, batch_size=128, epochs=100, verbose=1, validation_data=(X_test, Y_test), callbacks=[LearningRateScheduler(scheduler, verbose=1)])"
      ],
      "execution_count": 20,
      "outputs": [
        {
          "output_type": "stream",
          "text": [
            "Epoch 1/100\n",
            "\n",
            "Epoch 00001: LearningRateScheduler reducing learning rate to 0.003.\n",
            "469/469 [==============================] - 3s 6ms/step - loss: 0.0558 - accuracy: 0.9821 - val_loss: 0.0323 - val_accuracy: 0.9896\n",
            "Epoch 2/100\n",
            "\n",
            "Epoch 00002: LearningRateScheduler reducing learning rate to 0.0022744503.\n",
            "469/469 [==============================] - 3s 6ms/step - loss: 0.0396 - accuracy: 0.9871 - val_loss: 0.0245 - val_accuracy: 0.9921\n",
            "Epoch 3/100\n",
            "\n",
            "Epoch 00003: LearningRateScheduler reducing learning rate to 0.0018315018.\n",
            "469/469 [==============================] - 3s 6ms/step - loss: 0.0377 - accuracy: 0.9878 - val_loss: 0.0292 - val_accuracy: 0.9902\n",
            "Epoch 4/100\n",
            "\n",
            "Epoch 00004: LearningRateScheduler reducing learning rate to 0.0015329586.\n",
            "469/469 [==============================] - 3s 6ms/step - loss: 0.0329 - accuracy: 0.9896 - val_loss: 0.0244 - val_accuracy: 0.9923\n",
            "Epoch 5/100\n",
            "\n",
            "Epoch 00005: LearningRateScheduler reducing learning rate to 0.0013181019.\n",
            "469/469 [==============================] - 3s 6ms/step - loss: 0.0317 - accuracy: 0.9901 - val_loss: 0.0239 - val_accuracy: 0.9927\n",
            "Epoch 6/100\n",
            "\n",
            "Epoch 00006: LearningRateScheduler reducing learning rate to 0.0011560694.\n",
            "469/469 [==============================] - 3s 6ms/step - loss: 0.0295 - accuracy: 0.9903 - val_loss: 0.0239 - val_accuracy: 0.9923\n",
            "Epoch 7/100\n",
            "\n",
            "Epoch 00007: LearningRateScheduler reducing learning rate to 0.0010295127.\n",
            "469/469 [==============================] - 3s 6ms/step - loss: 0.0278 - accuracy: 0.9915 - val_loss: 0.0284 - val_accuracy: 0.9901\n",
            "Epoch 8/100\n",
            "\n",
            "Epoch 00008: LearningRateScheduler reducing learning rate to 0.0009279307.\n",
            "469/469 [==============================] - 3s 6ms/step - loss: 0.0288 - accuracy: 0.9907 - val_loss: 0.0229 - val_accuracy: 0.9926\n",
            "Epoch 9/100\n",
            "\n",
            "Epoch 00009: LearningRateScheduler reducing learning rate to 0.0008445946.\n",
            "469/469 [==============================] - 3s 6ms/step - loss: 0.0274 - accuracy: 0.9911 - val_loss: 0.0209 - val_accuracy: 0.9936\n",
            "Epoch 10/100\n",
            "\n",
            "Epoch 00010: LearningRateScheduler reducing learning rate to 0.0007749935.\n",
            "469/469 [==============================] - 3s 6ms/step - loss: 0.0259 - accuracy: 0.9920 - val_loss: 0.0229 - val_accuracy: 0.9932\n",
            "Epoch 11/100\n",
            "\n",
            "Epoch 00011: LearningRateScheduler reducing learning rate to 0.0007159905.\n",
            "469/469 [==============================] - 3s 6ms/step - loss: 0.0244 - accuracy: 0.9921 - val_loss: 0.0221 - val_accuracy: 0.9931\n",
            "Epoch 12/100\n",
            "\n",
            "Epoch 00012: LearningRateScheduler reducing learning rate to 0.000665336.\n",
            "469/469 [==============================] - 3s 6ms/step - loss: 0.0235 - accuracy: 0.9925 - val_loss: 0.0224 - val_accuracy: 0.9940\n",
            "Epoch 13/100\n",
            "\n",
            "Epoch 00013: LearningRateScheduler reducing learning rate to 0.0006213753.\n",
            "469/469 [==============================] - 3s 6ms/step - loss: 0.0243 - accuracy: 0.9923 - val_loss: 0.0208 - val_accuracy: 0.9935\n",
            "Epoch 14/100\n",
            "\n",
            "Epoch 00014: LearningRateScheduler reducing learning rate to 0.0005828638.\n",
            "469/469 [==============================] - 3s 6ms/step - loss: 0.0235 - accuracy: 0.9924 - val_loss: 0.0244 - val_accuracy: 0.9918\n",
            "Epoch 15/100\n",
            "\n",
            "Epoch 00015: LearningRateScheduler reducing learning rate to 0.0005488474.\n",
            "469/469 [==============================] - 3s 6ms/step - loss: 0.0224 - accuracy: 0.9928 - val_loss: 0.0211 - val_accuracy: 0.9939\n",
            "Epoch 16/100\n",
            "\n",
            "Epoch 00016: LearningRateScheduler reducing learning rate to 0.0005185825.\n",
            "469/469 [==============================] - 3s 6ms/step - loss: 0.0229 - accuracy: 0.9924 - val_loss: 0.0194 - val_accuracy: 0.9939\n",
            "Epoch 17/100\n",
            "\n",
            "Epoch 00017: LearningRateScheduler reducing learning rate to 0.000491481.\n",
            "469/469 [==============================] - 3s 6ms/step - loss: 0.0213 - accuracy: 0.9927 - val_loss: 0.0213 - val_accuracy: 0.9935\n",
            "Epoch 18/100\n",
            "\n",
            "Epoch 00018: LearningRateScheduler reducing learning rate to 0.0004670715.\n",
            "469/469 [==============================] - 3s 6ms/step - loss: 0.0227 - accuracy: 0.9924 - val_loss: 0.0224 - val_accuracy: 0.9935\n",
            "Epoch 19/100\n",
            "\n",
            "Epoch 00019: LearningRateScheduler reducing learning rate to 0.0004449718.\n",
            "469/469 [==============================] - 3s 6ms/step - loss: 0.0221 - accuracy: 0.9930 - val_loss: 0.0208 - val_accuracy: 0.9938\n",
            "Epoch 20/100\n",
            "\n",
            "Epoch 00020: LearningRateScheduler reducing learning rate to 0.000424869.\n",
            "469/469 [==============================] - 3s 6ms/step - loss: 0.0223 - accuracy: 0.9931 - val_loss: 0.0211 - val_accuracy: 0.9936\n",
            "Epoch 21/100\n",
            "\n",
            "Epoch 00021: LearningRateScheduler reducing learning rate to 0.0004065041.\n",
            "469/469 [==============================] - 3s 6ms/step - loss: 0.0215 - accuracy: 0.9932 - val_loss: 0.0231 - val_accuracy: 0.9932\n",
            "Epoch 22/100\n",
            "\n",
            "Epoch 00022: LearningRateScheduler reducing learning rate to 0.000389661.\n",
            "469/469 [==============================] - 3s 6ms/step - loss: 0.0207 - accuracy: 0.9936 - val_loss: 0.0199 - val_accuracy: 0.9943\n",
            "Epoch 23/100\n",
            "\n",
            "Epoch 00023: LearningRateScheduler reducing learning rate to 0.0003741581.\n",
            "469/469 [==============================] - 3s 6ms/step - loss: 0.0200 - accuracy: 0.9933 - val_loss: 0.0211 - val_accuracy: 0.9939\n",
            "Epoch 24/100\n",
            "\n",
            "Epoch 00024: LearningRateScheduler reducing learning rate to 0.0003598417.\n",
            "469/469 [==============================] - 3s 6ms/step - loss: 0.0206 - accuracy: 0.9935 - val_loss: 0.0220 - val_accuracy: 0.9941\n",
            "Epoch 25/100\n",
            "\n",
            "Epoch 00025: LearningRateScheduler reducing learning rate to 0.0003465804.\n",
            "469/469 [==============================] - 3s 6ms/step - loss: 0.0201 - accuracy: 0.9935 - val_loss: 0.0208 - val_accuracy: 0.9941\n",
            "Epoch 26/100\n",
            "\n",
            "Epoch 00026: LearningRateScheduler reducing learning rate to 0.0003342618.\n",
            "469/469 [==============================] - 3s 6ms/step - loss: 0.0193 - accuracy: 0.9936 - val_loss: 0.0218 - val_accuracy: 0.9935\n",
            "Epoch 27/100\n",
            "\n",
            "Epoch 00027: LearningRateScheduler reducing learning rate to 0.0003227889.\n",
            "469/469 [==============================] - 3s 6ms/step - loss: 0.0204 - accuracy: 0.9934 - val_loss: 0.0204 - val_accuracy: 0.9943\n",
            "Epoch 28/100\n",
            "\n",
            "Epoch 00028: LearningRateScheduler reducing learning rate to 0.0003120774.\n",
            "469/469 [==============================] - 3s 6ms/step - loss: 0.0199 - accuracy: 0.9932 - val_loss: 0.0209 - val_accuracy: 0.9940\n",
            "Epoch 29/100\n",
            "\n",
            "Epoch 00029: LearningRateScheduler reducing learning rate to 0.000302054.\n",
            "469/469 [==============================] - 3s 6ms/step - loss: 0.0204 - accuracy: 0.9938 - val_loss: 0.0205 - val_accuracy: 0.9943\n",
            "Epoch 30/100\n",
            "\n",
            "Epoch 00030: LearningRateScheduler reducing learning rate to 0.0002926544.\n",
            "469/469 [==============================] - 3s 6ms/step - loss: 0.0191 - accuracy: 0.9937 - val_loss: 0.0211 - val_accuracy: 0.9942\n",
            "Epoch 31/100\n",
            "\n",
            "Epoch 00031: LearningRateScheduler reducing learning rate to 0.0002838221.\n",
            "469/469 [==============================] - 3s 6ms/step - loss: 0.0191 - accuracy: 0.9939 - val_loss: 0.0207 - val_accuracy: 0.9941\n",
            "Epoch 32/100\n",
            "\n",
            "Epoch 00032: LearningRateScheduler reducing learning rate to 0.0002755074.\n",
            "469/469 [==============================] - 3s 6ms/step - loss: 0.0196 - accuracy: 0.9936 - val_loss: 0.0204 - val_accuracy: 0.9946\n",
            "Epoch 33/100\n",
            "\n",
            "Epoch 00033: LearningRateScheduler reducing learning rate to 0.000267666.\n",
            "469/469 [==============================] - 3s 6ms/step - loss: 0.0202 - accuracy: 0.9935 - val_loss: 0.0202 - val_accuracy: 0.9940\n",
            "Epoch 34/100\n",
            "\n",
            "Epoch 00034: LearningRateScheduler reducing learning rate to 0.0002602585.\n",
            "469/469 [==============================] - 3s 7ms/step - loss: 0.0189 - accuracy: 0.9944 - val_loss: 0.0200 - val_accuracy: 0.9940\n",
            "Epoch 35/100\n",
            "\n",
            "Epoch 00035: LearningRateScheduler reducing learning rate to 0.00025325.\n",
            "469/469 [==============================] - 3s 7ms/step - loss: 0.0197 - accuracy: 0.9936 - val_loss: 0.0200 - val_accuracy: 0.9943\n",
            "Epoch 36/100\n",
            "\n",
            "Epoch 00036: LearningRateScheduler reducing learning rate to 0.0002466091.\n",
            "469/469 [==============================] - 3s 7ms/step - loss: 0.0185 - accuracy: 0.9939 - val_loss: 0.0205 - val_accuracy: 0.9944\n",
            "Epoch 37/100\n",
            "\n",
            "Epoch 00037: LearningRateScheduler reducing learning rate to 0.0002403076.\n",
            "469/469 [==============================] - 3s 6ms/step - loss: 0.0200 - accuracy: 0.9934 - val_loss: 0.0207 - val_accuracy: 0.9949\n",
            "Epoch 38/100\n",
            "\n",
            "Epoch 00038: LearningRateScheduler reducing learning rate to 0.0002343201.\n",
            "469/469 [==============================] - 3s 6ms/step - loss: 0.0184 - accuracy: 0.9940 - val_loss: 0.0219 - val_accuracy: 0.9933\n",
            "Epoch 39/100\n",
            "\n",
            "Epoch 00039: LearningRateScheduler reducing learning rate to 0.0002286237.\n",
            "469/469 [==============================] - 3s 6ms/step - loss: 0.0189 - accuracy: 0.9940 - val_loss: 0.0208 - val_accuracy: 0.9945\n",
            "Epoch 40/100\n",
            "\n",
            "Epoch 00040: LearningRateScheduler reducing learning rate to 0.0002231977.\n",
            "469/469 [==============================] - 3s 6ms/step - loss: 0.0193 - accuracy: 0.9939 - val_loss: 0.0204 - val_accuracy: 0.9940\n",
            "Epoch 41/100\n",
            "\n",
            "Epoch 00041: LearningRateScheduler reducing learning rate to 0.0002180233.\n",
            "469/469 [==============================] - 3s 6ms/step - loss: 0.0187 - accuracy: 0.9937 - val_loss: 0.0196 - val_accuracy: 0.9944\n",
            "Epoch 42/100\n",
            "\n",
            "Epoch 00042: LearningRateScheduler reducing learning rate to 0.0002130833.\n",
            "469/469 [==============================] - 3s 6ms/step - loss: 0.0181 - accuracy: 0.9940 - val_loss: 0.0205 - val_accuracy: 0.9938\n",
            "Epoch 43/100\n",
            "\n",
            "Epoch 00043: LearningRateScheduler reducing learning rate to 0.0002083623.\n",
            "469/469 [==============================] - 3s 6ms/step - loss: 0.0172 - accuracy: 0.9941 - val_loss: 0.0219 - val_accuracy: 0.9938\n",
            "Epoch 44/100\n",
            "\n",
            "Epoch 00044: LearningRateScheduler reducing learning rate to 0.0002038459.\n",
            "469/469 [==============================] - 3s 6ms/step - loss: 0.0181 - accuracy: 0.9940 - val_loss: 0.0209 - val_accuracy: 0.9941\n",
            "Epoch 45/100\n",
            "\n",
            "Epoch 00045: LearningRateScheduler reducing learning rate to 0.0001995211.\n",
            "469/469 [==============================] - 3s 6ms/step - loss: 0.0188 - accuracy: 0.9944 - val_loss: 0.0214 - val_accuracy: 0.9939\n",
            "Epoch 46/100\n",
            "\n",
            "Epoch 00046: LearningRateScheduler reducing learning rate to 0.0001953761.\n",
            "469/469 [==============================] - 3s 6ms/step - loss: 0.0173 - accuracy: 0.9944 - val_loss: 0.0208 - val_accuracy: 0.9947\n",
            "Epoch 47/100\n",
            "\n",
            "Epoch 00047: LearningRateScheduler reducing learning rate to 0.0001913998.\n",
            "469/469 [==============================] - 3s 6ms/step - loss: 0.0179 - accuracy: 0.9939 - val_loss: 0.0201 - val_accuracy: 0.9944\n",
            "Epoch 48/100\n",
            "\n",
            "Epoch 00048: LearningRateScheduler reducing learning rate to 0.0001875821.\n",
            "469/469 [==============================] - 3s 6ms/step - loss: 0.0179 - accuracy: 0.9941 - val_loss: 0.0208 - val_accuracy: 0.9941\n",
            "Epoch 49/100\n",
            "\n",
            "Epoch 00049: LearningRateScheduler reducing learning rate to 0.0001839137.\n",
            "469/469 [==============================] - 3s 6ms/step - loss: 0.0179 - accuracy: 0.9941 - val_loss: 0.0203 - val_accuracy: 0.9946\n",
            "Epoch 50/100\n",
            "\n",
            "Epoch 00050: LearningRateScheduler reducing learning rate to 0.000180386.\n",
            "469/469 [==============================] - 3s 6ms/step - loss: 0.0174 - accuracy: 0.9941 - val_loss: 0.0210 - val_accuracy: 0.9937\n",
            "Epoch 51/100\n",
            "\n",
            "Epoch 00051: LearningRateScheduler reducing learning rate to 0.0001769912.\n",
            "469/469 [==============================] - 3s 6ms/step - loss: 0.0170 - accuracy: 0.9944 - val_loss: 0.0207 - val_accuracy: 0.9944\n",
            "Epoch 52/100\n",
            "\n",
            "Epoch 00052: LearningRateScheduler reducing learning rate to 0.0001737217.\n",
            "469/469 [==============================] - 3s 6ms/step - loss: 0.0164 - accuracy: 0.9944 - val_loss: 0.0202 - val_accuracy: 0.9947\n",
            "Epoch 53/100\n",
            "\n",
            "Epoch 00053: LearningRateScheduler reducing learning rate to 0.0001705708.\n",
            "469/469 [==============================] - 3s 6ms/step - loss: 0.0161 - accuracy: 0.9947 - val_loss: 0.0202 - val_accuracy: 0.9945\n",
            "Epoch 54/100\n",
            "\n",
            "Epoch 00054: LearningRateScheduler reducing learning rate to 0.0001675322.\n",
            "469/469 [==============================] - 3s 6ms/step - loss: 0.0176 - accuracy: 0.9945 - val_loss: 0.0213 - val_accuracy: 0.9937\n",
            "Epoch 55/100\n",
            "\n",
            "Epoch 00055: LearningRateScheduler reducing learning rate to 0.0001646.\n",
            "469/469 [==============================] - 3s 6ms/step - loss: 0.0180 - accuracy: 0.9943 - val_loss: 0.0202 - val_accuracy: 0.9944\n",
            "Epoch 56/100\n",
            "\n",
            "Epoch 00056: LearningRateScheduler reducing learning rate to 0.0001617687.\n",
            "469/469 [==============================] - 3s 6ms/step - loss: 0.0175 - accuracy: 0.9944 - val_loss: 0.0207 - val_accuracy: 0.9939\n",
            "Epoch 57/100\n",
            "\n",
            "Epoch 00057: LearningRateScheduler reducing learning rate to 0.0001590331.\n",
            "469/469 [==============================] - 3s 6ms/step - loss: 0.0174 - accuracy: 0.9944 - val_loss: 0.0204 - val_accuracy: 0.9946\n",
            "Epoch 58/100\n",
            "\n",
            "Epoch 00058: LearningRateScheduler reducing learning rate to 0.0001563885.\n",
            "469/469 [==============================] - 3s 6ms/step - loss: 0.0180 - accuracy: 0.9938 - val_loss: 0.0208 - val_accuracy: 0.9943\n",
            "Epoch 59/100\n",
            "\n",
            "Epoch 00059: LearningRateScheduler reducing learning rate to 0.0001538304.\n",
            "469/469 [==============================] - 3s 6ms/step - loss: 0.0174 - accuracy: 0.9941 - val_loss: 0.0200 - val_accuracy: 0.9948\n",
            "Epoch 60/100\n",
            "\n",
            "Epoch 00060: LearningRateScheduler reducing learning rate to 0.0001513546.\n",
            "469/469 [==============================] - 3s 6ms/step - loss: 0.0178 - accuracy: 0.9941 - val_loss: 0.0202 - val_accuracy: 0.9945\n",
            "Epoch 61/100\n",
            "\n",
            "Epoch 00061: LearningRateScheduler reducing learning rate to 0.0001489573.\n",
            "469/469 [==============================] - 3s 6ms/step - loss: 0.0176 - accuracy: 0.9937 - val_loss: 0.0206 - val_accuracy: 0.9937\n",
            "Epoch 62/100\n",
            "\n",
            "Epoch 00062: LearningRateScheduler reducing learning rate to 0.0001466347.\n",
            "469/469 [==============================] - 3s 6ms/step - loss: 0.0162 - accuracy: 0.9948 - val_loss: 0.0201 - val_accuracy: 0.9947\n",
            "Epoch 63/100\n",
            "\n",
            "Epoch 00063: LearningRateScheduler reducing learning rate to 0.0001443835.\n",
            "469/469 [==============================] - 3s 6ms/step - loss: 0.0169 - accuracy: 0.9941 - val_loss: 0.0214 - val_accuracy: 0.9937\n",
            "Epoch 64/100\n",
            "\n",
            "Epoch 00064: LearningRateScheduler reducing learning rate to 0.0001422003.\n",
            "469/469 [==============================] - 3s 6ms/step - loss: 0.0166 - accuracy: 0.9942 - val_loss: 0.0204 - val_accuracy: 0.9942\n",
            "Epoch 65/100\n",
            "\n",
            "Epoch 00065: LearningRateScheduler reducing learning rate to 0.0001400822.\n",
            "469/469 [==============================] - 3s 6ms/step - loss: 0.0174 - accuracy: 0.9942 - val_loss: 0.0205 - val_accuracy: 0.9944\n",
            "Epoch 66/100\n",
            "\n",
            "Epoch 00066: LearningRateScheduler reducing learning rate to 0.0001380262.\n",
            "469/469 [==============================] - 3s 6ms/step - loss: 0.0159 - accuracy: 0.9946 - val_loss: 0.0205 - val_accuracy: 0.9938\n",
            "Epoch 67/100\n",
            "\n",
            "Epoch 00067: LearningRateScheduler reducing learning rate to 0.0001360297.\n",
            "469/469 [==============================] - 3s 6ms/step - loss: 0.0169 - accuracy: 0.9942 - val_loss: 0.0199 - val_accuracy: 0.9942\n",
            "Epoch 68/100\n",
            "\n",
            "Epoch 00068: LearningRateScheduler reducing learning rate to 0.0001340902.\n",
            "469/469 [==============================] - 3s 6ms/step - loss: 0.0171 - accuracy: 0.9944 - val_loss: 0.0202 - val_accuracy: 0.9945\n",
            "Epoch 69/100\n",
            "\n",
            "Epoch 00069: LearningRateScheduler reducing learning rate to 0.0001322052.\n",
            "469/469 [==============================] - 3s 6ms/step - loss: 0.0179 - accuracy: 0.9941 - val_loss: 0.0206 - val_accuracy: 0.9942\n",
            "Epoch 70/100\n",
            "\n",
            "Epoch 00070: LearningRateScheduler reducing learning rate to 0.0001303724.\n",
            "469/469 [==============================] - 3s 6ms/step - loss: 0.0163 - accuracy: 0.9944 - val_loss: 0.0205 - val_accuracy: 0.9934\n",
            "Epoch 71/100\n",
            "\n",
            "Epoch 00071: LearningRateScheduler reducing learning rate to 0.0001285898.\n",
            "469/469 [==============================] - 3s 6ms/step - loss: 0.0170 - accuracy: 0.9944 - val_loss: 0.0203 - val_accuracy: 0.9945\n",
            "Epoch 72/100\n",
            "\n",
            "Epoch 00072: LearningRateScheduler reducing learning rate to 0.0001268553.\n",
            "469/469 [==============================] - 3s 6ms/step - loss: 0.0159 - accuracy: 0.9945 - val_loss: 0.0209 - val_accuracy: 0.9940\n",
            "Epoch 73/100\n",
            "\n",
            "Epoch 00073: LearningRateScheduler reducing learning rate to 0.0001251669.\n",
            "469/469 [==============================] - 3s 6ms/step - loss: 0.0165 - accuracy: 0.9946 - val_loss: 0.0209 - val_accuracy: 0.9938\n",
            "Epoch 74/100\n",
            "\n",
            "Epoch 00074: LearningRateScheduler reducing learning rate to 0.0001235229.\n",
            "469/469 [==============================] - 3s 6ms/step - loss: 0.0165 - accuracy: 0.9944 - val_loss: 0.0206 - val_accuracy: 0.9943\n",
            "Epoch 75/100\n",
            "\n",
            "Epoch 00075: LearningRateScheduler reducing learning rate to 0.0001219215.\n",
            "469/469 [==============================] - 3s 6ms/step - loss: 0.0163 - accuracy: 0.9945 - val_loss: 0.0204 - val_accuracy: 0.9945\n",
            "Epoch 76/100\n",
            "\n",
            "Epoch 00076: LearningRateScheduler reducing learning rate to 0.0001203611.\n",
            "469/469 [==============================] - 3s 6ms/step - loss: 0.0168 - accuracy: 0.9943 - val_loss: 0.0213 - val_accuracy: 0.9941\n",
            "Epoch 77/100\n",
            "\n",
            "Epoch 00077: LearningRateScheduler reducing learning rate to 0.0001188401.\n",
            "469/469 [==============================] - 3s 6ms/step - loss: 0.0163 - accuracy: 0.9945 - val_loss: 0.0211 - val_accuracy: 0.9942\n",
            "Epoch 78/100\n",
            "\n",
            "Epoch 00078: LearningRateScheduler reducing learning rate to 0.0001173571.\n",
            "469/469 [==============================] - 3s 6ms/step - loss: 0.0161 - accuracy: 0.9947 - val_loss: 0.0204 - val_accuracy: 0.9945\n",
            "Epoch 79/100\n",
            "\n",
            "Epoch 00079: LearningRateScheduler reducing learning rate to 0.0001159107.\n",
            "469/469 [==============================] - 3s 6ms/step - loss: 0.0168 - accuracy: 0.9946 - val_loss: 0.0206 - val_accuracy: 0.9944\n",
            "Epoch 80/100\n",
            "\n",
            "Epoch 00080: LearningRateScheduler reducing learning rate to 0.0001144994.\n",
            "469/469 [==============================] - 3s 6ms/step - loss: 0.0157 - accuracy: 0.9947 - val_loss: 0.0205 - val_accuracy: 0.9943\n",
            "Epoch 81/100\n",
            "\n",
            "Epoch 00081: LearningRateScheduler reducing learning rate to 0.0001131222.\n",
            "469/469 [==============================] - 3s 6ms/step - loss: 0.0158 - accuracy: 0.9948 - val_loss: 0.0207 - val_accuracy: 0.9948\n",
            "Epoch 82/100\n",
            "\n",
            "Epoch 00082: LearningRateScheduler reducing learning rate to 0.0001117776.\n",
            "469/469 [==============================] - 3s 6ms/step - loss: 0.0162 - accuracy: 0.9945 - val_loss: 0.0213 - val_accuracy: 0.9939\n",
            "Epoch 83/100\n",
            "\n",
            "Epoch 00083: LearningRateScheduler reducing learning rate to 0.0001104647.\n",
            "469/469 [==============================] - 3s 6ms/step - loss: 0.0162 - accuracy: 0.9948 - val_loss: 0.0211 - val_accuracy: 0.9943\n",
            "Epoch 84/100\n",
            "\n",
            "Epoch 00084: LearningRateScheduler reducing learning rate to 0.0001091822.\n",
            "469/469 [==============================] - 3s 6ms/step - loss: 0.0163 - accuracy: 0.9946 - val_loss: 0.0202 - val_accuracy: 0.9942\n",
            "Epoch 85/100\n",
            "\n",
            "Epoch 00085: LearningRateScheduler reducing learning rate to 0.0001079292.\n",
            "469/469 [==============================] - 3s 6ms/step - loss: 0.0166 - accuracy: 0.9943 - val_loss: 0.0199 - val_accuracy: 0.9944\n",
            "Epoch 86/100\n",
            "\n",
            "Epoch 00086: LearningRateScheduler reducing learning rate to 0.0001067046.\n",
            "469/469 [==============================] - 3s 6ms/step - loss: 0.0148 - accuracy: 0.9953 - val_loss: 0.0202 - val_accuracy: 0.9945\n",
            "Epoch 87/100\n",
            "\n",
            "Epoch 00087: LearningRateScheduler reducing learning rate to 0.0001055075.\n",
            "469/469 [==============================] - 3s 6ms/step - loss: 0.0167 - accuracy: 0.9947 - val_loss: 0.0208 - val_accuracy: 0.9937\n",
            "Epoch 88/100\n",
            "\n",
            "Epoch 00088: LearningRateScheduler reducing learning rate to 0.0001043369.\n",
            "469/469 [==============================] - 3s 6ms/step - loss: 0.0154 - accuracy: 0.9947 - val_loss: 0.0212 - val_accuracy: 0.9941\n",
            "Epoch 89/100\n",
            "\n",
            "Epoch 00089: LearningRateScheduler reducing learning rate to 0.0001031921.\n",
            "469/469 [==============================] - 3s 6ms/step - loss: 0.0157 - accuracy: 0.9947 - val_loss: 0.0215 - val_accuracy: 0.9940\n",
            "Epoch 90/100\n",
            "\n",
            "Epoch 00090: LearningRateScheduler reducing learning rate to 0.0001020721.\n",
            "469/469 [==============================] - 3s 6ms/step - loss: 0.0159 - accuracy: 0.9947 - val_loss: 0.0212 - val_accuracy: 0.9942\n",
            "Epoch 91/100\n",
            "\n",
            "Epoch 00091: LearningRateScheduler reducing learning rate to 0.0001009761.\n",
            "469/469 [==============================] - 3s 6ms/step - loss: 0.0159 - accuracy: 0.9948 - val_loss: 0.0206 - val_accuracy: 0.9941\n",
            "Epoch 92/100\n",
            "\n",
            "Epoch 00092: LearningRateScheduler reducing learning rate to 9.99034e-05.\n",
            "469/469 [==============================] - 3s 6ms/step - loss: 0.0158 - accuracy: 0.9946 - val_loss: 0.0206 - val_accuracy: 0.9944\n",
            "Epoch 93/100\n",
            "\n",
            "Epoch 00093: LearningRateScheduler reducing learning rate to 9.88533e-05.\n",
            "469/469 [==============================] - 3s 6ms/step - loss: 0.0151 - accuracy: 0.9948 - val_loss: 0.0205 - val_accuracy: 0.9939\n",
            "Epoch 94/100\n",
            "\n",
            "Epoch 00094: LearningRateScheduler reducing learning rate to 9.7825e-05.\n",
            "469/469 [==============================] - 3s 6ms/step - loss: 0.0155 - accuracy: 0.9948 - val_loss: 0.0210 - val_accuracy: 0.9944\n",
            "Epoch 95/100\n",
            "\n",
            "Epoch 00095: LearningRateScheduler reducing learning rate to 9.68179e-05.\n",
            "469/469 [==============================] - 3s 6ms/step - loss: 0.0155 - accuracy: 0.9949 - val_loss: 0.0213 - val_accuracy: 0.9939\n",
            "Epoch 96/100\n",
            "\n",
            "Epoch 00096: LearningRateScheduler reducing learning rate to 9.58313e-05.\n",
            "469/469 [==============================] - 3s 7ms/step - loss: 0.0161 - accuracy: 0.9946 - val_loss: 0.0207 - val_accuracy: 0.9940\n",
            "Epoch 97/100\n",
            "\n",
            "Epoch 00097: LearningRateScheduler reducing learning rate to 9.48647e-05.\n",
            "469/469 [==============================] - 3s 6ms/step - loss: 0.0159 - accuracy: 0.9946 - val_loss: 0.0207 - val_accuracy: 0.9940\n",
            "Epoch 98/100\n",
            "\n",
            "Epoch 00098: LearningRateScheduler reducing learning rate to 9.39173e-05.\n",
            "469/469 [==============================] - 3s 6ms/step - loss: 0.0149 - accuracy: 0.9953 - val_loss: 0.0206 - val_accuracy: 0.9945\n",
            "Epoch 99/100\n",
            "\n",
            "Epoch 00099: LearningRateScheduler reducing learning rate to 9.29887e-05.\n",
            "469/469 [==============================] - 3s 6ms/step - loss: 0.0152 - accuracy: 0.9949 - val_loss: 0.0207 - val_accuracy: 0.9941\n",
            "Epoch 100/100\n",
            "\n",
            "Epoch 00100: LearningRateScheduler reducing learning rate to 9.20782e-05.\n",
            "469/469 [==============================] - 3s 6ms/step - loss: 0.0167 - accuracy: 0.9942 - val_loss: 0.0213 - val_accuracy: 0.9940\n"
          ],
          "name": "stdout"
        },
        {
          "output_type": "execute_result",
          "data": {
            "text/plain": [
              "<tensorflow.python.keras.callbacks.History at 0x7f6a4aea3668>"
            ]
          },
          "metadata": {
            "tags": []
          },
          "execution_count": 20
        }
      ]
    },
    {
      "cell_type": "code",
      "metadata": {
        "id": "AtsH-lLk-eLb"
      },
      "source": [
        "val_accuracy = model.evaluate(X_test, Y_test, verbose=0)"
      ],
      "execution_count": 21,
      "outputs": []
    },
    {
      "cell_type": "code",
      "metadata": {
        "id": "mkX8JMv79q9r",
        "colab": {
          "base_uri": "https://localhost:8080/"
        },
        "outputId": "3aa4d85a-9ae2-4932-d168-690c3f057184"
      },
      "source": [
        "print(val_accuracy)"
      ],
      "execution_count": 22,
      "outputs": [
        {
          "output_type": "stream",
          "text": [
            "[0.02128746546804905, 0.9940000176429749]\n"
          ],
          "name": "stdout"
        }
      ]
    },
    {
      "cell_type": "code",
      "metadata": {
        "id": "ehxFvjX747WT"
      },
      "source": [
        ""
      ],
      "execution_count": null,
      "outputs": []
    }
  ]
}